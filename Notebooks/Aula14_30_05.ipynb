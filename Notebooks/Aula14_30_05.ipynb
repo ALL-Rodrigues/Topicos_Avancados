{
  "nbformat": 4,
  "nbformat_minor": 0,
  "metadata": {
    "colab": {
      "provenance": [],
      "authorship_tag": "ABX9TyOeWojeNlkk+u+UtTaivP5D",
      "include_colab_link": true
    },
    "kernelspec": {
      "name": "python3",
      "display_name": "Python 3"
    },
    "language_info": {
      "name": "python"
    }
  },
  "cells": [
    {
      "cell_type": "markdown",
      "metadata": {
        "id": "view-in-github",
        "colab_type": "text"
      },
      "source": [
        "<a href=\"https://colab.research.google.com/github/ALL-Rodrigues/Topicos_Avancados/blob/main/Notebooks/Aula14_30_05.ipynb\" target=\"_parent\"><img src=\"https://colab.research.google.com/assets/colab-badge.svg\" alt=\"Open In Colab\"/></a>"
      ]
    },
    {
      "cell_type": "markdown",
      "source": [
        "# Decima quarta aula de\n",
        "\n",
        "### trabalho para casa.\n",
        "\n",
        "objetivo: ver a palestra do cesar sobre processamentos de imagens. <br>\n",
        "\n",
        "A palestra começa em 2 h e 48 minutos até o final da apresentação do cesar.\n",
        "responda as perguntas postadas no suap."
      ],
      "metadata": {
        "id": "7cnXHDYWeZFQ"
      }
    }
  ]
}